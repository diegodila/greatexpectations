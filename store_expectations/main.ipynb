{
 "cells": [
  {
   "attachments": {},
   "cell_type": "markdown",
   "metadata": {},
   "source": [
    "### 1. Configure a new folder on your filesystem where Expectations will be stored\n",
    "### in the great_expectations/ folder\n",
    "    mkdir shared_expectations\n",
    "    mv expectations/npi_expectations.json shared_expectations/\n",
    "\n",
    "### 2. Identify your Data Context Expectations Store\n",
    "    expectations_store_name: expectations_store\n",
    "\n",
    "    stores:\n",
    "    expectations_store:\n",
    "        class_name: ExpectationsStore\n",
    "        store_backend:\n",
    "            class_name: TupleFilesystemStoreBackend\n",
    "            base_directory: expectations/\n",
    "\n",
    "\n",
    "### 3. Update your configuration file to include a new store for Expectations results on your filesystem\n",
    "    expectations_store_name: shared_expectations_filesystem_store\n",
    "\n",
    "    stores:\n",
    "    shared_expectations_filesystem_store:\n",
    "        class_name: ExpectationsStore\n",
    "        store_backend:\n",
    "            class_name: TupleFilesystemStoreBackend\n",
    "            base_directory: shared_expectations/\n",
    "\n",
    "### 4. Confirm that the location has been updated by running great_expectations store list\n",
    "    great_expectations store list\n",
    "\n",
    "    2 Stores found:\n",
    "\n",
    "    - name: expectations_store\n",
    "    class_name: ExpectationsStore\n",
    "    store_backend:\n",
    "    class_name: TupleFilesystemStoreBackend\n",
    "    base_directory: expectations/\n",
    "\n",
    "    - name: shared_expectations_filesystem_store\n",
    "    class_name: ExpectationsStore\n",
    "    store_backend:\n",
    "    class_name: TupleFilesystemStoreBackend\n",
    "    base_directory: shared_expectations/\n",
    "\n"
   ]
  }
 ],
 "metadata": {
  "kernelspec": {
   "display_name": "Python 3 (ipykernel)",
   "language": "python",
   "name": "python3"
  },
  "orig_nbformat": 4
 },
 "nbformat": 4,
 "nbformat_minor": 2
}
