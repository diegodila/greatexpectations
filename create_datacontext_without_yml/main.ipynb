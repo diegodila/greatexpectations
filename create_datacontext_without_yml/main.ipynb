{
 "cells": [
  {
   "cell_type": "code",
   "execution_count": 14,
   "metadata": {},
   "outputs": [],
   "source": [
    "from pyspark.sql import SparkSession\n",
    "\n",
    "spark = SparkSession.builder.getOrCreate()\n",
    "spark.conf.set('spark.sql.repl.eagerEval.enabled',True)"
   ]
  },
  {
   "cell_type": "code",
   "execution_count": 16,
   "metadata": {},
   "outputs": [],
   "source": [
    "df = spark.read.option('header','true').csv('./data/annual-enterprise-survey-2021-financial-year-provisional-csv.csv')"
   ]
  },
  {
   "cell_type": "code",
   "execution_count": 17,
   "metadata": {},
   "outputs": [
    {
     "data": {
      "text/html": [
       "<table border='1'>\n",
       "<tr><th>Year</th><th>Industry_aggregation_NZSIOC</th><th>Industry_code_NZSIOC</th><th>Industry_name_NZSIOC</th><th>Units</th><th>Variable_code</th><th>Variable_name</th><th>Variable_category</th><th>Value</th><th>Industry_code_ANZSIC06</th></tr>\n",
       "<tr><td>2021</td><td>Level 1</td><td>99999</td><td>All industries</td><td>Dollars (millions)</td><td>H01</td><td>Total income</td><td>Financial perform...</td><td>757,504</td><td>ANZSIC06 division...</td></tr>\n",
       "<tr><td>2021</td><td>Level 1</td><td>99999</td><td>All industries</td><td>Dollars (millions)</td><td>H04</td><td>Sales, government...</td><td>Financial perform...</td><td>674,890</td><td>ANZSIC06 division...</td></tr>\n",
       "<tr><td>2021</td><td>Level 1</td><td>99999</td><td>All industries</td><td>Dollars (millions)</td><td>H05</td><td>Interest, dividen...</td><td>Financial perform...</td><td>49,593</td><td>ANZSIC06 division...</td></tr>\n",
       "<tr><td>2021</td><td>Level 1</td><td>99999</td><td>All industries</td><td>Dollars (millions)</td><td>H07</td><td>Non-operating income</td><td>Financial perform...</td><td>33,020</td><td>ANZSIC06 division...</td></tr>\n",
       "<tr><td>2021</td><td>Level 1</td><td>99999</td><td>All industries</td><td>Dollars (millions)</td><td>H08</td><td>Total expenditure</td><td>Financial perform...</td><td>654,404</td><td>ANZSIC06 division...</td></tr>\n",
       "<tr><td>2021</td><td>Level 1</td><td>99999</td><td>All industries</td><td>Dollars (millions)</td><td>H09</td><td>Interest and dona...</td><td>Financial perform...</td><td>26,138</td><td>ANZSIC06 division...</td></tr>\n",
       "<tr><td>2021</td><td>Level 1</td><td>99999</td><td>All industries</td><td>Dollars (millions)</td><td>H10</td><td>Indirect taxes</td><td>Financial perform...</td><td>6,991</td><td>ANZSIC06 division...</td></tr>\n",
       "<tr><td>2021</td><td>Level 1</td><td>99999</td><td>All industries</td><td>Dollars (millions)</td><td>H11</td><td>Depreciation</td><td>Financial perform...</td><td>27,801</td><td>ANZSIC06 division...</td></tr>\n",
       "<tr><td>2021</td><td>Level 1</td><td>99999</td><td>All industries</td><td>Dollars (millions)</td><td>H12</td><td>Salaries and wage...</td><td>Financial perform...</td><td>123,620</td><td>ANZSIC06 division...</td></tr>\n",
       "<tr><td>2021</td><td>Level 1</td><td>99999</td><td>All industries</td><td>Dollars (millions)</td><td>H13</td><td>Redundancy and se...</td><td>Financial perform...</td><td>275</td><td>ANZSIC06 division...</td></tr>\n",
       "<tr><td>2021</td><td>Level 1</td><td>99999</td><td>All industries</td><td>Dollars (millions)</td><td>H14</td><td>Salaries and wage...</td><td>Financial perform...</td><td>2,085</td><td>ANZSIC06 division...</td></tr>\n",
       "<tr><td>2021</td><td>Level 1</td><td>99999</td><td>All industries</td><td>Dollars (millions)</td><td>H19</td><td>Purchases and oth...</td><td>Financial perform...</td><td>452,963</td><td>ANZSIC06 division...</td></tr>\n",
       "<tr><td>2021</td><td>Level 1</td><td>99999</td><td>All industries</td><td>Dollars (millions)</td><td>H20</td><td>Non-operating exp...</td><td>Financial perform...</td><td>14,806</td><td>ANZSIC06 division...</td></tr>\n",
       "<tr><td>2021</td><td>Level 1</td><td>99999</td><td>All industries</td><td>Dollars (millions)</td><td>H21</td><td>Opening stocks</td><td>Financial perform...</td><td>68,896</td><td>ANZSIC06 division...</td></tr>\n",
       "<tr><td>2021</td><td>Level 1</td><td>99999</td><td>All industries</td><td>Dollars (millions)</td><td>H22</td><td>Closing stocks</td><td>Financial perform...</td><td>69,127</td><td>ANZSIC06 division...</td></tr>\n",
       "<tr><td>2021</td><td>Level 1</td><td>99999</td><td>All industries</td><td>Dollars (millions)</td><td>H23</td><td>Surplus before in...</td><td>Financial perform...</td><td>103,330</td><td>ANZSIC06 division...</td></tr>\n",
       "<tr><td>2021</td><td>Level 1</td><td>99999</td><td>All industries</td><td>Dollars (millions)</td><td>H24</td><td>Total assets</td><td>Financial position</td><td>2,512,677</td><td>ANZSIC06 division...</td></tr>\n",
       "<tr><td>2021</td><td>Level 1</td><td>99999</td><td>All industries</td><td>Dollars (millions)</td><td>H25</td><td>Current assets</td><td>Financial position</td><td>730,587</td><td>ANZSIC06 division...</td></tr>\n",
       "<tr><td>2021</td><td>Level 1</td><td>99999</td><td>All industries</td><td>Dollars (millions)</td><td>H26</td><td>Fixed tangible as...</td><td>Financial position</td><td>591,351</td><td>ANZSIC06 division...</td></tr>\n",
       "<tr><td>2021</td><td>Level 1</td><td>99999</td><td>All industries</td><td>Dollars (millions)</td><td>H29</td><td>Other assets</td><td>Financial position</td><td>1,190,739</td><td>ANZSIC06 division...</td></tr>\n",
       "</table>\n",
       "only showing top 20 rows\n"
      ],
      "text/plain": [
       "+----+---------------------------+--------------------+--------------------+------------------+-------------+--------------------+--------------------+---------+----------------------+\n",
       "|Year|Industry_aggregation_NZSIOC|Industry_code_NZSIOC|Industry_name_NZSIOC|             Units|Variable_code|       Variable_name|   Variable_category|    Value|Industry_code_ANZSIC06|\n",
       "+----+---------------------------+--------------------+--------------------+------------------+-------------+--------------------+--------------------+---------+----------------------+\n",
       "|2021|                    Level 1|               99999|      All industries|Dollars (millions)|          H01|        Total income|Financial perform...|  757,504|  ANZSIC06 division...|\n",
       "|2021|                    Level 1|               99999|      All industries|Dollars (millions)|          H04|Sales, government...|Financial perform...|  674,890|  ANZSIC06 division...|\n",
       "|2021|                    Level 1|               99999|      All industries|Dollars (millions)|          H05|Interest, dividen...|Financial perform...|   49,593|  ANZSIC06 division...|\n",
       "|2021|                    Level 1|               99999|      All industries|Dollars (millions)|          H07|Non-operating income|Financial perform...|   33,020|  ANZSIC06 division...|\n",
       "|2021|                    Level 1|               99999|      All industries|Dollars (millions)|          H08|   Total expenditure|Financial perform...|  654,404|  ANZSIC06 division...|\n",
       "|2021|                    Level 1|               99999|      All industries|Dollars (millions)|          H09|Interest and dona...|Financial perform...|   26,138|  ANZSIC06 division...|\n",
       "|2021|                    Level 1|               99999|      All industries|Dollars (millions)|          H10|      Indirect taxes|Financial perform...|    6,991|  ANZSIC06 division...|\n",
       "|2021|                    Level 1|               99999|      All industries|Dollars (millions)|          H11|        Depreciation|Financial perform...|   27,801|  ANZSIC06 division...|\n",
       "|2021|                    Level 1|               99999|      All industries|Dollars (millions)|          H12|Salaries and wage...|Financial perform...|  123,620|  ANZSIC06 division...|\n",
       "|2021|                    Level 1|               99999|      All industries|Dollars (millions)|          H13|Redundancy and se...|Financial perform...|      275|  ANZSIC06 division...|\n",
       "|2021|                    Level 1|               99999|      All industries|Dollars (millions)|          H14|Salaries and wage...|Financial perform...|    2,085|  ANZSIC06 division...|\n",
       "|2021|                    Level 1|               99999|      All industries|Dollars (millions)|          H19|Purchases and oth...|Financial perform...|  452,963|  ANZSIC06 division...|\n",
       "|2021|                    Level 1|               99999|      All industries|Dollars (millions)|          H20|Non-operating exp...|Financial perform...|   14,806|  ANZSIC06 division...|\n",
       "|2021|                    Level 1|               99999|      All industries|Dollars (millions)|          H21|      Opening stocks|Financial perform...|   68,896|  ANZSIC06 division...|\n",
       "|2021|                    Level 1|               99999|      All industries|Dollars (millions)|          H22|      Closing stocks|Financial perform...|   69,127|  ANZSIC06 division...|\n",
       "|2021|                    Level 1|               99999|      All industries|Dollars (millions)|          H23|Surplus before in...|Financial perform...|  103,330|  ANZSIC06 division...|\n",
       "|2021|                    Level 1|               99999|      All industries|Dollars (millions)|          H24|        Total assets|  Financial position|2,512,677|  ANZSIC06 division...|\n",
       "|2021|                    Level 1|               99999|      All industries|Dollars (millions)|          H25|      Current assets|  Financial position|  730,587|  ANZSIC06 division...|\n",
       "|2021|                    Level 1|               99999|      All industries|Dollars (millions)|          H26|Fixed tangible as...|  Financial position|  591,351|  ANZSIC06 division...|\n",
       "|2021|                    Level 1|               99999|      All industries|Dollars (millions)|          H29|        Other assets|  Financial position|1,190,739|  ANZSIC06 division...|\n",
       "+----+---------------------------+--------------------+--------------------+------------------+-------------+--------------------+--------------------+---------+----------------------+\n",
       "only showing top 20 rows"
      ]
     },
     "execution_count": 17,
     "metadata": {},
     "output_type": "execute_result"
    }
   ],
   "source": []
  },
  {
   "cell_type": "code",
   "execution_count": null,
   "metadata": {},
   "outputs": [],
   "source": []
  }
 ],
 "metadata": {
  "kernelspec": {
   "display_name": "Python 3 (ipykernel)",
   "language": "python",
   "name": "python3"
  },
  "orig_nbformat": 4
 },
 "nbformat": 4,
 "nbformat_minor": 2
}
