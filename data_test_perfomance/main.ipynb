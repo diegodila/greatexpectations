{
 "cells": [
  {
   "cell_type": "code",
   "execution_count": 1,
   "metadata": {},
   "outputs": [],
   "source": [
    "import great_expectations as gx"
   ]
  },
  {
   "cell_type": "code",
   "execution_count": 2,
   "metadata": {},
   "outputs": [],
   "source": [
    "df = gx.read_csv('./work/greatexpectations/data_test_perfomance/data/custom_1988_2020.csv')"
   ]
  },
  {
   "cell_type": "code",
   "execution_count": null,
   "metadata": {},
   "outputs": [],
   "source": [
    "%timeit df = gx.read_csv('./work/greatexpectations/data_test_perfomance/data/custom_1988_2020.csv')"
   ]
  },
  {
   "cell_type": "code",
   "execution_count": 5,
   "metadata": {},
   "outputs": [
    {
     "data": {
      "text/plain": [
       "198801       113607321\n",
       "1            113607321\n",
       "103          113607321\n",
       "100          113607321\n",
       "000000190    113607321\n",
       "0            113607321\n",
       "35843        113607321\n",
       "34353        113607321\n",
       "dtype: int64"
      ]
     },
     "execution_count": 5,
     "metadata": {},
     "output_type": "execute_result"
    }
   ],
   "source": [
    "df.count()"
   ]
  },
  {
   "cell_type": "code",
   "execution_count": 6,
   "metadata": {},
   "outputs": [],
   "source": [
    "from pyspark.sql import SparkSession\n",
    "\n",
    "spark = SparkSession.builder.getOrCreate()\n",
    "spark.conf.set('spark.sql.repl.eagerEval.truncate',5000)\n",
    "spark.conf.set('spark.sql.repl.eagerEval.enabled',True)"
   ]
  },
  {
   "cell_type": "code",
   "execution_count": 7,
   "metadata": {},
   "outputs": [],
   "source": [
    "df = spark.read.option('delimiter', ',').option(\"header\", \"False\").csv('./work/greatexpectations/data_test_perfomance/data/custom_1988_2020.csv')"
   ]
  },
  {
   "cell_type": "code",
   "execution_count": 8,
   "metadata": {},
   "outputs": [
    {
     "name": "stdout",
     "output_type": "stream",
     "text": [
      "+------+---+---+---+---------+---+-----+-----+\n",
      "|   _c0|_c1|_c2|_c3|      _c4|_c5|  _c6|  _c7|\n",
      "+------+---+---+---+---------+---+-----+-----+\n",
      "|198801|  1|103|100|000000190|  0|35843|34353|\n",
      "|198801|  1|103|100|120991000|  0| 1590| 4154|\n",
      "|198801|  1|103|100|210390900|  0| 4500| 2565|\n",
      "|198801|  1|103|100|220890200|  0| 3000|  757|\n",
      "|198801|  1|103|100|240220000|  0|26000|40668|\n",
      "|198801|  1|103|100|250410000|  0|    5| 8070|\n",
      "|198801|  1|103|100|271000700|  0|  374| 2485|\n",
      "|198801|  1|103|100|271220000|  0|  400|  616|\n",
      "|198801|  1|103|100|280300000|  0| 1900| 2020|\n",
      "|198801|  1|103|100|280610000|  0| 1000|  227|\n",
      "|198801|  1|103|100|281119000|  0| 1762| 1693|\n",
      "|198801|  1|103|100|281210000|  0|15900| 1621|\n",
      "|198801|  1|103|100|281512000|  0|  900|  254|\n",
      "|198801|  1|103|100|281810000|  0| 2000|  819|\n",
      "|198801|  1|103|100|281830000|  0|  800|  489|\n",
      "|198801|  1|103|100|282110000|  0| 3750|  235|\n",
      "|198801|  1|103|100|282510000|  0|  900| 1458|\n",
      "|198801|  1|103|100|283429000|  0|  500|  245|\n",
      "|198801|  1|103|100|283522000|  0| 3000|  907|\n",
      "|198801|  1|103|100|284190000|  0|  750| 1110|\n",
      "+------+---+---+---+---------+---+-----+-----+\n",
      "only showing top 20 rows\n",
      "\n"
     ]
    }
   ],
   "source": [
    "df.show()"
   ]
  },
  {
   "cell_type": "code",
   "execution_count": 9,
   "metadata": {},
   "outputs": [
    {
     "data": {
      "text/plain": [
       "113607322"
      ]
     },
     "execution_count": 9,
     "metadata": {},
     "output_type": "execute_result"
    }
   ],
   "source": [
    "df.count()"
   ]
  },
  {
   "cell_type": "code",
   "execution_count": null,
   "metadata": {},
   "outputs": [],
   "source": [
    "%timeit max(range(100000))"
   ]
  },
  {
   "cell_type": "code",
   "execution_count": null,
   "metadata": {},
   "outputs": [],
   "source": [
    "!great_expectations init"
   ]
  }
 ],
 "metadata": {
  "kernelspec": {
   "display_name": "Python 3 (ipykernel)",
   "language": "python",
   "name": "python3"
  },
  "orig_nbformat": 4,
  "vscode": {
   "interpreter": {
    "hash": "d6deea0041069495928bdc8eb83cf3a0061e45acad7117f6551cb8d8eb4a0e9d"
   }
  }
 },
 "nbformat": 4,
 "nbformat_minor": 2
}
