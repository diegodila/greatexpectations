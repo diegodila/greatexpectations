{
 "cells": [
  {
   "cell_type": "code",
   "execution_count": 1,
   "metadata": {},
   "outputs": [],
   "source": [
    "from ruamel import yaml\n",
    "\n",
    "import great_expectations as gx\n",
    "from great_expectations.core.batch import BatchRequest, RuntimeBatchRequest\n",
    "from great_expectations.data_context import BaseDataContext\n",
    "from great_expectations.data_context.types.base import (\n",
    "    DataContextConfig,\n",
    "    InMemoryStoreBackendDefaults,\n",
    ")"
   ]
  },
  {
   "cell_type": "code",
   "execution_count": 2,
   "metadata": {},
   "outputs": [
    {
     "ename": "NameError",
     "evalue": "name 'sc' is not defined",
     "output_type": "error",
     "traceback": [
      "\u001b[0;31m---------------------------------------------------------------------------\u001b[0m",
      "\u001b[0;31mNameError\u001b[0m                                 Traceback (most recent call last)",
      "Cell \u001b[0;32mIn[2], line 1\u001b[0m\n\u001b[0;32m----> 1\u001b[0m sc\u001b[39m.\u001b[39minstall_pypi_package(\u001b[39m\"\u001b[39m\u001b[39mgreat_expectations\u001b[39m\u001b[39m\"\u001b[39m)\n",
      "\u001b[0;31mNameError\u001b[0m: name 'sc' is not defined"
     ]
    }
   ],
   "source": [
    "sc.install_pypi_package(\"great_expectations\")\n"
   ]
  },
  {
   "cell_type": "code",
   "execution_count": 3,
   "metadata": {},
   "outputs": [],
   "source": [
    "from great_expectations.data_context.types.base import DataContextConfig, DatasourceConfig, S3StoreBackendDefaults\n",
    "\n",
    "data_context_config = DataContextConfig(\n",
    "    datasources={\n",
    "        \"sql_warehouse\": DatasourceConfig(\n",
    "            class_name=\"Datasource\",\n",
    "            execution_engine={\n",
    "                \"class_name\": \"SqlAlchemyExecutionEngine\",\n",
    "                \"credentials\": {\n",
    "                    \"drivername\": \"postgresql+psycopg2\",\n",
    "                    \"host\": \"localhost\",\n",
    "                    \"port\": \"5432\",\n",
    "                    \"username\": \"postgres\",\n",
    "                    \"password\": \"postgres\",\n",
    "                    \"database\": \"postgres\",\n",
    "                },\n",
    "            },\n",
    "            data_connectors={\n",
    "                \"default_runtime_data_connector_name\": {\n",
    "                    \"class_name\": \"RuntimeDataConnector\",\n",
    "                    \"batch_identifiers\": [\"default_identifier_name\"],\n",
    "                },\n",
    "                \"default_inferred_data_connector_name\": {\n",
    "                    \"class_name\": \"InferredAssetSqlDataConnector\",\n",
    "                    \"name\": \"whole_table\",\n",
    "                },\n",
    "            }\n",
    "        )\n",
    "    },\n",
    "    store_backend_defaults=S3StoreBackendDefaults(default_bucket_name=\"my_default_bucket\"),\n",
    "    )"
   ]
  },
  {
   "cell_type": "code",
   "execution_count": null,
   "metadata": {},
   "outputs": [],
   "source": []
  }
 ],
 "metadata": {
  "kernelspec": {
   "display_name": "Python 3 (ipykernel)",
   "language": "python",
   "name": "python3"
  },
  "orig_nbformat": 4
 },
 "nbformat": 4,
 "nbformat_minor": 2
}
