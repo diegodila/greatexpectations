{
 "cells": [
  {
   "cell_type": "code",
   "execution_count": 11,
   "metadata": {},
   "outputs": [],
   "source": [
    "from great_expectations.data_context.types.base import DataContextConfig, DatasourceConfig, FilesystemStoreBackendDefaults\n",
    "\n",
    "data_context_config = DataContextConfig(\n",
    "    datasources={\n",
    "        \"pandas\": DatasourceConfig(\n",
    "            class_name=\"Datasource\",\n",
    "            execution_engine={\n",
    "                \"class_name\": \"SparkDFExecutionEngine\"\n",
    "            },\n",
    "            data_connectors={\n",
    "                \"tripdata_monthly_configured\": {\n",
    "                    \"class_name\": \"ConfiguredAssetFilesystemDataConnector\",\n",
    "                    \"base_directory\": \"/work/greatexpectations/data_context_config/gx_tutorials/data\",\n",
    "                    \"assets\": {\n",
    "                        \"yellow\": {\n",
    "                            \"pattern\": r\"yellow_tripdata_(\\d{4})-(\\d{2})\\.csv$\",\n",
    "                            \"group_names\": [\"year\", \"month\"],\n",
    "                        }\n",
    "                    },\n",
    "                }\n",
    "            },\n",
    "        )\n",
    "    },\n",
    "    store_backend_defaults=FilesystemStoreBackendDefaults(root_directory=\"/home/jovyan/work/greatexpectations/data_context_config/armazem\"),\n",
    ")"
   ]
  },
  {
   "cell_type": "code",
   "execution_count": 12,
   "metadata": {},
   "outputs": [],
   "source": [
    "import great_expectations as gx\n",
    "\n",
    "context = gx.get_context(project_config=data_context_config)"
   ]
  },
  {
   "cell_type": "code",
   "execution_count": 13,
   "metadata": {},
   "outputs": [],
   "source": [
    "from ruamel import yaml\n",
    "\n",
    "import great_expectations as gx\n",
    "from great_expectations.core.batch import RuntimeBatchRequest\n",
    "from great_expectations.data_context.types.base import (\n",
    "    DataContextConfig,\n",
    "    InMemoryStoreBackendDefaults,\n",
    ")\n",
    "from great_expectations.util import get_context"
   ]
  },
  {
   "cell_type": "code",
   "execution_count": 14,
   "metadata": {},
   "outputs": [],
   "source": [
    "datasource_config = {\n",
    "    \"name\": \"my_spark_dataframe\",\n",
    "    \"class_name\": \"Datasource\",\n",
    "    \"execution_engine\": {\"class_name\": \"SparkDFExecutionEngine\"},\n",
    "    \"data_connectors\": {\n",
    "        \"default_runtime_data_connector_name\": {\n",
    "            \"class_name\": \"RuntimeDataConnector\",\n",
    "            \"batch_identifiers\": [\"batch_id\"],\n",
    "        }\n",
    "    },\n",
    "}"
   ]
  },
  {
   "cell_type": "code",
   "execution_count": 15,
   "metadata": {},
   "outputs": [
    {
     "name": "stdout",
     "output_type": "stream",
     "text": [
      "Attempting to instantiate class from config...\n",
      "\tInstantiating as a Datasource, since class_name is Datasource\n",
      "\tSuccessfully instantiated Datasource\n",
      "\n",
      "\n",
      "ExecutionEngine class name: SparkDFExecutionEngine\n",
      "Data Connectors:\n",
      "\tdefault_runtime_data_connector_name:RuntimeDataConnector\n",
      "\n",
      "\tAvailable data_asset_names (0 of 0):\n",
      "\t\tNote : RuntimeDataConnector will not have data_asset_names until they are passed in through RuntimeBatchRequest\n",
      "\n",
      "\tUnmatched data_references (0 of 0): []\n",
      "\n"
     ]
    },
    {
     "data": {
      "text/plain": [
       "<great_expectations.datasource.new_datasource.Datasource at 0x7fdcd08d1e70>"
      ]
     },
     "execution_count": 15,
     "metadata": {},
     "output_type": "execute_result"
    }
   ],
   "source": [
    "context.test_yaml_config(yaml.dump(datasource_config))\n"
   ]
  },
  {
   "cell_type": "code",
   "execution_count": 16,
   "metadata": {},
   "outputs": [
    {
     "data": {
      "text/plain": [
       "<great_expectations.datasource.new_datasource.Datasource at 0x7fdcd08d2bf0>"
      ]
     },
     "execution_count": 16,
     "metadata": {},
     "output_type": "execute_result"
    }
   ],
   "source": [
    "context.add_datasource(**datasource_config)"
   ]
  },
  {
   "cell_type": "code",
   "execution_count": 19,
   "metadata": {},
   "outputs": [],
   "source": [
    "batch_request = RuntimeBatchRequest(\n",
    "    datasource_name=\"my_spark_dataframe\",\n",
    "    data_connector_name=\"default_runtime_data_connector_name\",\n",
    "    data_asset_name=\"<YOUR_MEANGINGFUL_NAME>\",  # This can be anything that identifies this data_asset for you\n",
    "    batch_identifiers={\"batch_id\": \"default_identifier\"},\n",
    "    runtime_parameters={\"batch_data\": df},  # Your dataframe goes here\n",
    ")"
   ]
  },
  {
   "cell_type": "code",
   "execution_count": 18,
   "metadata": {},
   "outputs": [],
   "source": [
    "from pyspark.sql import SparkSession\n",
    "spark = SparkSession.builder.getOrCreate()\n",
    "data = [\n",
    "    {\"a\": 1, \"b\": 2, \"c\": 3},\n",
    "    {\"a\": 4, \"b\": 5, \"c\": 6},\n",
    "    {\"a\": 7, \"b\": 8, \"c\": 9},\n",
    "]\n",
    "df = spark.createDataFrame(data)"
   ]
  },
  {
   "cell_type": "code",
   "execution_count": 20,
   "metadata": {},
   "outputs": [
    {
     "data": {
      "application/vnd.jupyter.widget-view+json": {
       "model_id": "ca815156f05f4a73b0c0942f9eb9c9e4",
       "version_major": 2,
       "version_minor": 0
      },
      "text/plain": [
       "Calculating Metrics:   0%|          | 0/1 [00:00<?, ?it/s]"
      ]
     },
     "metadata": {},
     "output_type": "display_data"
    },
    {
     "name": "stdout",
     "output_type": "stream",
     "text": [
      "   a  b  c\n",
      "0  1  2  3\n",
      "1  4  5  6\n",
      "2  7  8  9\n"
     ]
    }
   ],
   "source": [
    "context.create_expectation_suite(\n",
    "    expectation_suite_name=\"test_suite\", overwrite_existing=True\n",
    ")\n",
    "validator = context.get_validator(\n",
    "    batch_request=batch_request, expectation_suite_name=\"test_suite\"\n",
    ")\n",
    "print(validator.head())"
   ]
  },
  {
   "cell_type": "code",
   "execution_count": 21,
   "metadata": {},
   "outputs": [
    {
     "data": {
      "text/plain": [
       "{\n",
       "  \"anonymous_usage_statistics\": {\n",
       "    \"explicit_id\": true,\n",
       "    \"usage_statistics_url\": \"https://stats.greatexpectations.io/great_expectations/v1/usage_statistics\",\n",
       "    \"enabled\": true,\n",
       "    \"explicit_url\": false,\n",
       "    \"data_context_id\": \"f6ebf043-e9b5-4ce7-b4b0-cfbf584ae7b6\"\n",
       "  },\n",
       "  \"checkpoint_store_name\": \"checkpoint_store\",\n",
       "  \"config_version\": 3,\n",
       "  \"data_docs_sites\": {\n",
       "    \"local_site\": {\n",
       "      \"class_name\": \"SiteBuilder\",\n",
       "      \"show_how_to_buttons\": true,\n",
       "      \"store_backend\": {\n",
       "        \"class_name\": \"TupleFilesystemStoreBackend\",\n",
       "        \"base_directory\": \"uncommitted/data_docs/local_site/\",\n",
       "        \"root_directory\": \"/home/jovyan/work/greatexpectations/data_context_config/armazem\"\n",
       "      },\n",
       "      \"site_index_builder\": {\n",
       "        \"class_name\": \"DefaultSiteIndexBuilder\"\n",
       "      }\n",
       "    }\n",
       "  },\n",
       "  \"datasources\": {\n",
       "    \"pandas\": {\n",
       "      \"data_connectors\": {\n",
       "        \"tripdata_monthly_configured\": {\n",
       "          \"class_name\": \"ConfiguredAssetFilesystemDataConnector\",\n",
       "          \"base_directory\": \"/work/greatexpectations/data_context_config/gx_tutorials/data\",\n",
       "          \"assets\": {\n",
       "            \"yellow\": {\n",
       "              \"pattern\": \"yellow_tripdata_(\\\\d{4})-(\\\\d{2})\\\\.csv$\",\n",
       "              \"group_names\": [\n",
       "                \"year\",\n",
       "                \"month\"\n",
       "              ]\n",
       "            }\n",
       "          }\n",
       "        }\n",
       "      },\n",
       "      \"module_name\": \"great_expectations.datasource\",\n",
       "      \"execution_engine\": {\n",
       "        \"class_name\": \"SparkDFExecutionEngine\"\n",
       "      },\n",
       "      \"class_name\": \"Datasource\"\n",
       "    },\n",
       "    \"my_spark_dataframe\": {\n",
       "      \"name\": \"my_spark_dataframe\",\n",
       "      \"data_connectors\": {\n",
       "        \"default_runtime_data_connector_name\": {\n",
       "          \"name\": \"default_runtime_data_connector_name\",\n",
       "          \"module_name\": \"great_expectations.datasource.data_connector\",\n",
       "          \"class_name\": \"RuntimeDataConnector\",\n",
       "          \"batch_identifiers\": [\n",
       "            \"batch_id\"\n",
       "          ]\n",
       "        }\n",
       "      },\n",
       "      \"module_name\": \"great_expectations.datasource\",\n",
       "      \"execution_engine\": {\n",
       "        \"module_name\": \"great_expectations.execution_engine\",\n",
       "        \"class_name\": \"SparkDFExecutionEngine\"\n",
       "      },\n",
       "      \"class_name\": \"Datasource\"\n",
       "    }\n",
       "  },\n",
       "  \"evaluation_parameter_store_name\": \"evaluation_parameter_store\",\n",
       "  \"expectations_store_name\": \"expectations_store\",\n",
       "  \"include_rendered_content\": {\n",
       "    \"expectation_validation_result\": false,\n",
       "    \"globally\": false,\n",
       "    \"expectation_suite\": false\n",
       "  },\n",
       "  \"profiler_store_name\": \"profiler_store\",\n",
       "  \"stores\": {\n",
       "    \"expectations_store\": {\n",
       "      \"class_name\": \"ExpectationsStore\",\n",
       "      \"store_backend\": {\n",
       "        \"class_name\": \"TupleFilesystemStoreBackend\",\n",
       "        \"base_directory\": \"expectations/\",\n",
       "        \"root_directory\": \"/home/jovyan/work/greatexpectations/data_context_config/armazem\"\n",
       "      }\n",
       "    },\n",
       "    \"validations_store\": {\n",
       "      \"class_name\": \"ValidationsStore\",\n",
       "      \"store_backend\": {\n",
       "        \"class_name\": \"TupleFilesystemStoreBackend\",\n",
       "        \"base_directory\": \"uncommitted/validations/\",\n",
       "        \"root_directory\": \"/home/jovyan/work/greatexpectations/data_context_config/armazem\"\n",
       "      }\n",
       "    },\n",
       "    \"evaluation_parameter_store\": {\n",
       "      \"class_name\": \"EvaluationParameterStore\"\n",
       "    },\n",
       "    \"checkpoint_store\": {\n",
       "      \"class_name\": \"CheckpointStore\",\n",
       "      \"store_backend\": {\n",
       "        \"class_name\": \"TupleFilesystemStoreBackend\",\n",
       "        \"suppress_store_backend_id\": true,\n",
       "        \"base_directory\": \"checkpoints/\",\n",
       "        \"root_directory\": \"/home/jovyan/work/greatexpectations/data_context_config/armazem\"\n",
       "      }\n",
       "    },\n",
       "    \"profiler_store\": {\n",
       "      \"class_name\": \"ProfilerStore\",\n",
       "      \"store_backend\": {\n",
       "        \"class_name\": \"TupleFilesystemStoreBackend\",\n",
       "        \"suppress_store_backend_id\": true,\n",
       "        \"base_directory\": \"profilers/\",\n",
       "        \"root_directory\": \"/home/jovyan/work/greatexpectations/data_context_config/armazem\"\n",
       "      }\n",
       "    }\n",
       "  },\n",
       "  \"validations_store_name\": \"validations_store\"\n",
       "}"
      ]
     },
     "execution_count": 21,
     "metadata": {},
     "output_type": "execute_result"
    }
   ],
   "source": [
    "context"
   ]
  },
  {
   "cell_type": "code",
   "execution_count": null,
   "metadata": {},
   "outputs": [],
   "source": []
  }
 ],
 "metadata": {
  "kernelspec": {
   "display_name": "Python 3 (ipykernel)",
   "language": "python",
   "name": "python3"
  },
  "language_info": {
   "codemirror_mode": {
    "name": "ipython",
    "version": 3
   },
   "file_extension": ".py",
   "mimetype": "text/x-python",
   "name": "python",
   "nbconvert_exporter": "python",
   "pygments_lexer": "ipython3",
   "version": "3.10.8"
  },
  "orig_nbformat": 4
 },
 "nbformat": 4,
 "nbformat_minor": 2
}
