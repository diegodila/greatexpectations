{
 "cells": [
  {
   "cell_type": "code",
   "execution_count": 1,
   "metadata": {},
   "outputs": [],
   "source": [
    "from ruamel import yaml\n",
    "\n",
    "import great_expectations as gx\n",
    "from great_expectations.core.batch import RuntimeBatchRequest\n",
    "from great_expectations.data_context.types.base import (\n",
    "    DataContextConfig,\n",
    "    InMemoryStoreBackendDefaults,\n",
    ")\n",
    "from great_expectations.util import get_context\n",
    "\n"
   ]
  },
  {
   "cell_type": "code",
   "execution_count": null,
   "metadata": {},
   "outputs": [],
   "source": [
    "from great_expectations.data_context.types.base import DataContextConfig, DatasourceConfig, FilesystemStoreBackendDefaults\n",
    "\n",
    "data_context_config = DataContextConfig(\n",
    "    datasources={\n",
    "        \"my_spark_datasource\": DatasourceConfig(\n",
    "            class_name=\"Datasource\",\n",
    "            execution_engine={\n",
    "                \"class_name\": \"SparkDFExecutionEngine\"\n",
    "            },\n",
    "            data_connectors={\n",
    "                \"tripdata_monthly_configured\": {\n",
    "                    \"class_name\": \"ConfiguredAssetFilesystemDataConnector\",\n",
    "                    \"base_directory\": \"/path/to/trip_data\",\n",
    "                    \"assets\": {\n",
    "                        \"yellow\": {\n",
    "                            \"pattern\": r\"yellow_tripdata_(\\d{4})-(\\d{2})\\.csv$\",\n",
    "                            \"group_names\": [\"year\", \"month\"],\n",
    "                        }\n",
    "                    },\n",
    "                }\n",
    "            },\n",
    "        )\n",
    "    },\n",
    "    store_backend_defaults=FilesystemStoreBackendDefaults(root_directory=\"/path/to/store/location\"),\n"
   ]
  }
 ],
 "metadata": {
  "kernelspec": {
   "display_name": "Python 3 (ipykernel)",
   "language": "python",
   "name": "python3"
  },
  "orig_nbformat": 4
 },
 "nbformat": 4,
 "nbformat_minor": 2
}
