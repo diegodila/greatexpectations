{
 "cells": [
  {
   "cell_type": "code",
   "execution_count": 1,
   "metadata": {},
   "outputs": [],
   "source": [
    "from ruamel import yaml\n",
    "\n",
    "import great_expectations as gx\n",
    "from great_expectations.core.batch import BatchRequest, RuntimeBatchRequest"
   ]
  },
  {
   "cell_type": "code",
   "execution_count": 2,
   "metadata": {},
   "outputs": [
    {
     "ename": "ConfigNotFoundError",
     "evalue": "Error: No great_expectations directory was found here!\n    - Please check that you are in the correct directory or have specified the correct directory.\n    - If you have never run Great Expectations in this project, please run `great_expectations init` to get started.\n",
     "output_type": "error",
     "traceback": [
      "\u001b[0;31m---------------------------------------------------------------------------\u001b[0m",
      "\u001b[0;31mConfigNotFoundError\u001b[0m                       Traceback (most recent call last)",
      "Cell \u001b[0;32mIn[2], line 1\u001b[0m\n\u001b[0;32m----> 1\u001b[0m context \u001b[39m=\u001b[39m gx\u001b[39m.\u001b[39;49mget_context()\n",
      "File \u001b[0;32m/opt/conda/lib/python3.10/site-packages/great_expectations/util.py:1318\u001b[0m, in \u001b[0;36mget_context\u001b[0;34m()\u001b[0m\n\u001b[1;32m   1315\u001b[0m \u001b[39mdef\u001b[39;00m \u001b[39mget_context\u001b[39m():\n\u001b[1;32m   1316\u001b[0m     \u001b[39mfrom\u001b[39;00m \u001b[39mgreat_expectations\u001b[39;00m\u001b[39m.\u001b[39;00m\u001b[39mdata_context\u001b[39;00m\u001b[39m.\u001b[39;00m\u001b[39mdata_context\u001b[39;00m \u001b[39mimport\u001b[39;00m DataContext\n\u001b[0;32m-> 1318\u001b[0m     \u001b[39mreturn\u001b[39;00m DataContext()\n",
      "File \u001b[0;32m/opt/conda/lib/python3.10/site-packages/great_expectations/data_context/data_context.py:4233\u001b[0m, in \u001b[0;36mDataContext.__init__\u001b[0;34m(self, context_root_dir, runtime_environment, ge_cloud_mode, ge_cloud_base_url, ge_cloud_account_id, ge_cloud_access_token, ge_cloud_organization_id)\u001b[0m\n\u001b[1;32m   4226\u001b[0m         logger\u001b[39m.\u001b[39minfo(\n\u001b[1;32m   4227\u001b[0m             \u001b[39mf\u001b[39m\u001b[39m'\u001b[39m\u001b[39mcontext_root_dir was not provided - defaulting to current working directory \u001b[39m\u001b[39m\"\u001b[39m\u001b[39m'\u001b[39m\n\u001b[1;32m   4228\u001b[0m             \u001b[39mf\u001b[39m\u001b[39m'\u001b[39m\u001b[39m{\u001b[39;00mcontext_root_dir\u001b[39m}\u001b[39;00m\u001b[39m\"\u001b[39m\u001b[39m.\u001b[39m\u001b[39m'\u001b[39m\n\u001b[1;32m   4229\u001b[0m         )\n\u001b[1;32m   4230\u001b[0m \u001b[39melse\u001b[39;00m:\n\u001b[1;32m   4231\u001b[0m     \u001b[39m# Determine the \"context root directory\" - this is the parent of \"great_expectations\" dir\u001b[39;00m\n\u001b[1;32m   4232\u001b[0m     context_root_dir \u001b[39m=\u001b[39m (\n\u001b[0;32m-> 4233\u001b[0m         \u001b[39mself\u001b[39;49m\u001b[39m.\u001b[39;49mfind_context_root_dir()\n\u001b[1;32m   4234\u001b[0m         \u001b[39mif\u001b[39;00m context_root_dir \u001b[39mis\u001b[39;00m \u001b[39mNone\u001b[39;00m\n\u001b[1;32m   4235\u001b[0m         \u001b[39melse\u001b[39;00m context_root_dir\n\u001b[1;32m   4236\u001b[0m     )\n\u001b[1;32m   4238\u001b[0m context_root_directory \u001b[39m=\u001b[39m os\u001b[39m.\u001b[39mpath\u001b[39m.\u001b[39mabspath(os\u001b[39m.\u001b[39mpath\u001b[39m.\u001b[39mexpanduser(context_root_dir))\n\u001b[1;32m   4239\u001b[0m \u001b[39mself\u001b[39m\u001b[39m.\u001b[39m_context_root_directory \u001b[39m=\u001b[39m context_root_directory\n",
      "File \u001b[0;32m/opt/conda/lib/python3.10/site-packages/great_expectations/data_context/data_context.py:4382\u001b[0m, in \u001b[0;36mDataContext.find_context_root_dir\u001b[0;34m(cls)\u001b[0m\n\u001b[1;32m   4379\u001b[0m         result \u001b[39m=\u001b[39m os\u001b[39m.\u001b[39mpath\u001b[39m.\u001b[39mdirname(yml_path)\n\u001b[1;32m   4381\u001b[0m \u001b[39mif\u001b[39;00m result \u001b[39mis\u001b[39;00m \u001b[39mNone\u001b[39;00m:\n\u001b[0;32m-> 4382\u001b[0m     \u001b[39mraise\u001b[39;00m ge_exceptions\u001b[39m.\u001b[39mConfigNotFoundError()\n\u001b[1;32m   4384\u001b[0m logger\u001b[39m.\u001b[39mdebug(\u001b[39mf\u001b[39m\u001b[39m\"\u001b[39m\u001b[39mUsing project config: \u001b[39m\u001b[39m{\u001b[39;00myml_path\u001b[39m}\u001b[39;00m\u001b[39m\"\u001b[39m)\n\u001b[1;32m   4385\u001b[0m \u001b[39mreturn\u001b[39;00m result\n",
      "\u001b[0;31mConfigNotFoundError\u001b[0m: Error: No great_expectations directory was found here!\n    - Please check that you are in the correct directory or have specified the correct directory.\n    - If you have never run Great Expectations in this project, please run `great_expectations init` to get started.\n"
     ]
    }
   ],
   "source": [
    "context = gx.get_context()"
   ]
  },
  {
   "cell_type": "code",
   "execution_count": 3,
   "metadata": {},
   "outputs": [],
   "source": [
    "datasource_config = {\n",
    "    \"name\": \"taxi_datasource\",\n",
    "    \"class_name\": \"Datasource\",\n",
    "    \"module_name\": \"great_expectations.datasource\",\n",
    "    \"execution_engine\": {\n",
    "        \"module_name\": \"great_expectations.execution_engine\",\n",
    "        \"class_name\": \"PandasExecutionEngine\",\n",
    "    },\n",
    "    \"data_connectors\": {\n",
    "        \"default_runtime_data_connector_name\": {\n",
    "            \"class_name\": \"RuntimeDataConnector\",\n",
    "            \"module_name\": \"great_expectations.datasource.data_connector\",\n",
    "            \"batch_identifiers\": [\"default_identifier_name\"],\n",
    "        },\n",
    "        \"default_inferred_data_connector_name\": {\n",
    "            \"class_name\": \"InferredAssetFilesystemDataConnector\",\n",
    "            \"base_directory\": \"<PATH_TO_YOUR_DATA_HERE>\",\n",
    "            \"default_regex\": {\"group_names\": [\"data_asset_name\"], \"pattern\": \"(.*)\"},\n",
    "        },\n",
    "    },\n",
    "}"
   ]
  },
  {
   "cell_type": "code",
   "execution_count": null,
   "metadata": {},
   "outputs": [],
   "source": []
  }
 ],
 "metadata": {
  "kernelspec": {
   "display_name": "Python 3 (ipykernel)",
   "language": "python",
   "name": "python3"
  },
  "language_info": {
   "codemirror_mode": {
    "name": "ipython",
    "version": 3
   },
   "file_extension": ".py",
   "mimetype": "text/x-python",
   "name": "python",
   "nbconvert_exporter": "python",
   "pygments_lexer": "ipython3",
   "version": "3.10.8"
  },
  "orig_nbformat": 4
 },
 "nbformat": 4,
 "nbformat_minor": 2
}
